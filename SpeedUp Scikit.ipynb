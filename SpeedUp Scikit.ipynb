{
 "cells": [
  {
   "cell_type": "markdown",
   "metadata": {},
   "source": [
    "# Understanding the n_jobs Parameter to Speedup Scikit-learn Classification\n",
    "\n",
    "In this notebook I illustrate the importance of the `n_jobs` parameter provided by some classes of the scikit-learn library. According to the official scikit-learn library, the `n_jobs` parameter is described as follows:\n",
    "\n",
    "The number of parallel jobs to run for neighbors search. None means 1 unless in a joblib.parallel_backend context. -1 means using all processors. \n",
    "\n",
    "This means that the `n_jobs` parameter can be used to distribute and exploit all the CPUs available in the local computer.\n",
    "\n",
    "In this tutorial, I evaluate the time elapsed to fit all the default classification datasets provided by the scikit-learn library, by varying the `n_jobs` parameter from 1 to the maximum number of CPUs. As example, I will try a K-Neighbors Classifier with Grid Search with Cross Validation.\n",
    "\n",
    "## Define auxiliary variables\n",
    "\n",
    "Firstly I define a list of all the classification datasets names, contained in the [sklearn.datasets package](https://scikit-learn.org/stable/datasets/toy_dataset.html)."
   ]
  },
  {
   "cell_type": "code",
   "execution_count": 95,
   "metadata": {},
   "outputs": [],
   "source": [
    "datasets_list = ['iris', 'digits', 'wine', 'breast_cancer','diabetes']"
   ]
  },
  {
   "cell_type": "markdown",
   "metadata": {},
   "source": [
    "Then, I calculate the number of CPUs available in my system. I exploit the `cpu_count()` function provided by the `os` package."
   ]
  },
  {
   "cell_type": "code",
   "execution_count": 96,
   "metadata": {},
   "outputs": [
    {
     "name": "stdout",
     "output_type": "stream",
     "text": [
      "Number of CPUs in the system: 4\n"
     ]
    }
   ],
   "source": [
    "import os\n",
    "  \n",
    "n_cpu = os.cpu_count()\n",
    "print(\"Number of CPUs in the system:\", n_cpu)"
   ]
  },
  {
   "cell_type": "markdown",
   "metadata": {},
   "source": [
    "I also define all the parameters for the Grid Search."
   ]
  },
  {
   "cell_type": "code",
   "execution_count": 97,
   "metadata": {},
   "outputs": [],
   "source": [
    "import numpy as np\n",
    "parameters = {  'n_neighbors'   : np.arange(2, 25),\n",
    "                'weights'       : ['uniform', 'distance'],\n",
    "                'metric'        : ['euclidean', 'manhattan', 'chebyshev', 'minkowski'],\n",
    "                'algorithm'     : ['ball_tree', 'kd_tree']\n",
    "            }"
   ]
  },
  {
   "cell_type": "markdown",
   "metadata": {},
   "source": [
    "## Define the Main function\n",
    "\n",
    "Now, I'm ready to define the main function, which will be used to test the time elapsed for training. I import all the needed functions and classes:"
   ]
  },
  {
   "cell_type": "code",
   "execution_count": 98,
   "metadata": {},
   "outputs": [],
   "source": [
    "from sklearn.neighbors import KNeighborsClassifier\n",
    "from sklearn.model_selection import GridSearchCV\n",
    "from sklearn.datasets import *\n",
    "import time"
   ]
  },
  {
   "cell_type": "markdown",
   "metadata": {},
   "source": [
    "and I define the `load_and_train()` function, which receives the dataset name as input. In order to load the corresponding dataaset, I exploit the `globals()` function, which contains a table with all the imported functions. Since I have already imported all the datasets provided by scikit-learn, I can pass the function name to the `globals()` function. The syntax is: `globals()[<function_name>]()`.\n",
    "\n",
    "Once loaded the dataset, I can build a loop which iterates across the number of CPUS and calculates the time elapsed for training, by varying the number of CPUs. I build a list with all the elapsed times, which are eventually returned by the function."
   ]
  },
  {
   "cell_type": "code",
   "execution_count": 99,
   "metadata": {},
   "outputs": [],
   "source": [
    "def load_and_train(name):\n",
    "    dataset = globals()['load_' + name]()\n",
    "    X = dataset.data\n",
    "    y = dataset.target\n",
    "    tdelta_list = []\n",
    "    for i in range(1, n_cpu+1):\n",
    "        s = time.time()\n",
    "        model = KNeighborsClassifier(n_jobs=i)\n",
    "        clf = GridSearchCV(model, parameters, cv = 10)\n",
    "        model.fit(X_train, y_train)\n",
    "        e = time.time()\n",
    "        tdelta = e - s \n",
    "        tdelta_list.append({'time' : tdelta, 'bin' : i})\n",
    "    return tdelta_list"
   ]
  },
  {
   "cell_type": "markdown",
   "metadata": {},
   "source": [
    "## Plot Results\n",
    "Finally I invoke the `load_and_train()` function for all the datasets names and I plot results."
   ]
  },
  {
   "cell_type": "code",
   "execution_count": 100,
   "metadata": {},
   "outputs": [
    {
     "data": {
      "image/png": "[encoded data removed]",
      "text/plain": [
       "<Figure size 432x288 with 1 Axes>"
      ]
     },
     "metadata": {
      "needs_background": "light"
     },
     "output_type": "display_data"
    }
   ],
   "source": [
    "import matplotlib.pyplot as plt\n",
    "import pandas as pd\n",
    "\n",
    "for d in datasets_list:\n",
    "    tdelta_list = load_and_train(d)\n",
    "    df = pd.DataFrame(tdelta_list)\n",
    "    plt.plot(df['bin'], df['time'], label=d)\n",
    "plt.grid()\n",
    "plt.legend()\n",
    "plt.xlabel('N Jobs')\n",
    "plt.ylabel('Time for fit (sec.)')\n",
    "plt.title('Time for fit VS number of CPUs')\n",
    "plt.show()"
   ]
  },
  {
   "cell_type": "code",
   "execution_count": null,
   "metadata": {},
   "outputs": [],
   "source": []
  },
  {
   "cell_type": "code",
   "execution_count": null,
   "metadata": {},
   "outputs": [],
   "source": []
  }
 ],
 "metadata": {
  "kernelspec": {
   "display_name": "Python 3",
   "language": "python",
   "name": "python3"
  },
  "language_info": {
   "codemirror_mode": {
    "name": "ipython",
    "version": 3
   },
   "file_extension": ".py",
   "mimetype": "text/x-python",
   "name": "python",
   "nbconvert_exporter": "python",
   "pygments_lexer": "ipython3",
   "version": "3.8.1"
  }
 },
 "nbformat": 4,
 "nbformat_minor": 4
}
